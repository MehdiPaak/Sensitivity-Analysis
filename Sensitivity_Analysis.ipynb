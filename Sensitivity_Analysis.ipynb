{
 "cells": [
  {
   "cell_type": "markdown",
   "metadata": {},
   "source": [
    "# Sensitivity Analysis \n",
    "\n",
    "## Introduction\n",
    "In this notebook, I present how to calculate the sensitivity of the response (target)\n",
    "with respect to the factors (features) based on the ordinary least square (OLS) method.\n",
    "Sensitivity has various definitions for various contexts.For data sets which show\n",
    "some levels of linearity, the coefficients of the linear regression model can be used\n",
    "to identify the influence of each factor on the response.\n",
    "\n",
    "## Methodology\n",
    "Let x1,x2, ...,xn be the features and y the response, then a linear\n",
    "model can be written as \n",
    "y=a0+a1*x1 + a2*x2+...+an*xn + error (1)\n",
    "In this model only the primary features are considered polynomial terms (interaction terms) can \n",
    "also be included.\n",
    "\n",
    "After finding the suitable set of coefficients a_i by minimizing the L2 norm of the error, we\n",
    "can determine the influence of each parameter by comparing the absolute value of the associated\n",
    "coefficient. Basically, we calculate dy/dx_i as the sensitivity of y with respect to x_i (other parameters constant).\n",
    "\n",
    "The sensitivity in this case may be interpreted as one unit of increase in x_i leads to a_i unit\n",
    "of increase or decrease in y. \n",
    "\n",
    "It is important to note that the coefficient matrix must be appropriately standardized so that\n",
    "all parameters values are in the same range e.g. [0,1].\n",
    "\n",
    "In the same vein, we can establish a linear model of the form\n",
    "\n",
    "log(y) = b_0+b_1*log(x_1)+b_2*log(x_2)+...+b_n*log(x_n) + error. (2)\n",
    "\n",
    "The coefficients in this case, represent the elasticity of the target\n",
    "to the change in the input parameters. Mathematically,\n",
    "b_i= (dy/y)/(dx/x). (3)\n",
    "In other words, 1% of change in the input leads to b_i% of change in the output.\n",
    "the formula above can be obtained by tkaing the differential form both sides of Eq(2).\n",
    "\n",
    "## Data \n",
    "\n",
    "### source\n",
    "The data set to be studied is taken from this [website](http://people.sc.fsu.edu/~jburkardt/datasets/regression/x08.txt).\n",
    "I am not sure whether this data represents real-life situation or not but it serves the \n",
    "porpuse of this investigation.\n",
    "\n",
    "### synopsis\n",
    "The description provided with the data (see [data file](./data_info.txt)) is sufficient.\n",
    "The data set lists the number of murder per million population per annum for 20\n",
    "regions with various populations; for each region, the percentage of population\n",
    "whose income is less than 5000 dollars and the percentage of unemployment is also specified.\n",
    "More insights is provided along side the calculations of this note book.\n",
    "\n",
    "It should be noted that, I do not engage in discussing the validity of these features \n",
    "and their relation with respect to each other. One might argue that\n",
    "people with income less than 5000 dollars are unemployed and receive some sort of\n",
    "social welfare; hence the two features are not independent. I avoid these considerations.\n",
    "I take the data as is for the sole purpose of demonstrating how sensitivity can be calculated and interpreted.\n",
    "\n",
    "## Goal\n",
    "The goal is to find out which parameter (population, income factor and unemployment) has\n",
    "the largest influence on the muerder rate.\n",
    "\n",
    "## Author\n",
    "Mehdi Paak\n",
    "\n",
    "## License\n",
    "This project is licensed under the MIT License - see the [LICENSE](./LICENSE)  file for details."
   ]
  },
  {
   "cell_type": "code",
   "execution_count": 6,
   "metadata": {},
   "outputs": [],
   "source": [
    "import warnings\n",
    "warnings.simplefilter(action='ignore', category=FutureWarning)\n",
    "\n",
    "import pandas as pd\n",
    "import numpy as np\n",
    "import matplotlib.pyplot as plt\n",
    "import seaborn as sns\n",
    "import os\n",
    "import statsmodels.api as sm\n",
    "from sklearn import preprocessing\n",
    "\n",
    "sns.set()\n",
    "%matplotlib inline"
   ]
  },
  {
   "cell_type": "code",
   "execution_count": 2,
   "metadata": {},
   "outputs": [],
   "source": [
    "path = r'.'\n",
    "All_Data = np.loadtxt(os.path.join(path,'data.txt'))"
   ]
  },
  {
   "cell_type": "code",
   "execution_count": 3,
   "metadata": {},
   "outputs": [
    {
     "data": {
      "text/plain": [
       "(20, 5)"
      ]
     },
     "execution_count": 3,
     "metadata": {},
     "output_type": "execute_result"
    }
   ],
   "source": [
    "All_Data.shape"
   ]
  },
  {
   "cell_type": "code",
   "execution_count": 4,
   "metadata": {},
   "outputs": [],
   "source": [
    "df=pd.DataFrame(All_Data[:,1:],columns=['population','pop_inc_b5k','unemployment','murder'])"
   ]
  },
  {
   "cell_type": "code",
   "execution_count": 5,
   "metadata": {},
   "outputs": [
    {
     "data": {
      "text/html": [
       "<div>\n",
       "<style scoped>\n",
       "    .dataframe tbody tr th:only-of-type {\n",
       "        vertical-align: middle;\n",
       "    }\n",
       "\n",
       "    .dataframe tbody tr th {\n",
       "        vertical-align: top;\n",
       "    }\n",
       "\n",
       "    .dataframe thead th {\n",
       "        text-align: right;\n",
       "    }\n",
       "</style>\n",
       "<table border=\"1\" class=\"dataframe\">\n",
       "  <thead>\n",
       "    <tr style=\"text-align: right;\">\n",
       "      <th></th>\n",
       "      <th>population</th>\n",
       "      <th>pop_inc_b5k</th>\n",
       "      <th>unemployment</th>\n",
       "      <th>murder</th>\n",
       "    </tr>\n",
       "  </thead>\n",
       "  <tbody>\n",
       "    <tr>\n",
       "      <th>0</th>\n",
       "      <td>587000.0</td>\n",
       "      <td>16.5</td>\n",
       "      <td>6.2</td>\n",
       "      <td>11.2</td>\n",
       "    </tr>\n",
       "    <tr>\n",
       "      <th>1</th>\n",
       "      <td>643000.0</td>\n",
       "      <td>20.5</td>\n",
       "      <td>6.4</td>\n",
       "      <td>13.4</td>\n",
       "    </tr>\n",
       "    <tr>\n",
       "      <th>2</th>\n",
       "      <td>635000.0</td>\n",
       "      <td>26.3</td>\n",
       "      <td>9.3</td>\n",
       "      <td>40.7</td>\n",
       "    </tr>\n",
       "    <tr>\n",
       "      <th>3</th>\n",
       "      <td>692000.0</td>\n",
       "      <td>16.5</td>\n",
       "      <td>5.3</td>\n",
       "      <td>5.3</td>\n",
       "    </tr>\n",
       "    <tr>\n",
       "      <th>4</th>\n",
       "      <td>1248000.0</td>\n",
       "      <td>19.2</td>\n",
       "      <td>7.3</td>\n",
       "      <td>24.8</td>\n",
       "    </tr>\n",
       "    <tr>\n",
       "      <th>5</th>\n",
       "      <td>643000.0</td>\n",
       "      <td>16.5</td>\n",
       "      <td>5.9</td>\n",
       "      <td>12.7</td>\n",
       "    </tr>\n",
       "    <tr>\n",
       "      <th>6</th>\n",
       "      <td>1964000.0</td>\n",
       "      <td>20.2</td>\n",
       "      <td>6.4</td>\n",
       "      <td>20.9</td>\n",
       "    </tr>\n",
       "    <tr>\n",
       "      <th>7</th>\n",
       "      <td>1531000.0</td>\n",
       "      <td>21.3</td>\n",
       "      <td>7.6</td>\n",
       "      <td>35.7</td>\n",
       "    </tr>\n",
       "    <tr>\n",
       "      <th>8</th>\n",
       "      <td>713000.0</td>\n",
       "      <td>17.2</td>\n",
       "      <td>4.9</td>\n",
       "      <td>8.7</td>\n",
       "    </tr>\n",
       "    <tr>\n",
       "      <th>9</th>\n",
       "      <td>749000.0</td>\n",
       "      <td>14.3</td>\n",
       "      <td>6.4</td>\n",
       "      <td>9.6</td>\n",
       "    </tr>\n",
       "    <tr>\n",
       "      <th>10</th>\n",
       "      <td>7895000.0</td>\n",
       "      <td>18.1</td>\n",
       "      <td>6.0</td>\n",
       "      <td>14.5</td>\n",
       "    </tr>\n",
       "    <tr>\n",
       "      <th>11</th>\n",
       "      <td>762000.0</td>\n",
       "      <td>23.1</td>\n",
       "      <td>7.4</td>\n",
       "      <td>26.9</td>\n",
       "    </tr>\n",
       "    <tr>\n",
       "      <th>12</th>\n",
       "      <td>2793000.0</td>\n",
       "      <td>19.1</td>\n",
       "      <td>5.8</td>\n",
       "      <td>15.7</td>\n",
       "    </tr>\n",
       "    <tr>\n",
       "      <th>13</th>\n",
       "      <td>741000.0</td>\n",
       "      <td>24.7</td>\n",
       "      <td>8.6</td>\n",
       "      <td>36.2</td>\n",
       "    </tr>\n",
       "    <tr>\n",
       "      <th>14</th>\n",
       "      <td>625000.0</td>\n",
       "      <td>18.6</td>\n",
       "      <td>6.5</td>\n",
       "      <td>18.1</td>\n",
       "    </tr>\n",
       "    <tr>\n",
       "      <th>15</th>\n",
       "      <td>854000.0</td>\n",
       "      <td>24.9</td>\n",
       "      <td>8.3</td>\n",
       "      <td>28.9</td>\n",
       "    </tr>\n",
       "    <tr>\n",
       "      <th>16</th>\n",
       "      <td>716000.0</td>\n",
       "      <td>17.9</td>\n",
       "      <td>6.7</td>\n",
       "      <td>14.9</td>\n",
       "    </tr>\n",
       "    <tr>\n",
       "      <th>17</th>\n",
       "      <td>921000.0</td>\n",
       "      <td>22.4</td>\n",
       "      <td>8.6</td>\n",
       "      <td>25.8</td>\n",
       "    </tr>\n",
       "    <tr>\n",
       "      <th>18</th>\n",
       "      <td>595000.0</td>\n",
       "      <td>20.2</td>\n",
       "      <td>8.4</td>\n",
       "      <td>21.7</td>\n",
       "    </tr>\n",
       "    <tr>\n",
       "      <th>19</th>\n",
       "      <td>3353000.0</td>\n",
       "      <td>16.9</td>\n",
       "      <td>6.7</td>\n",
       "      <td>25.7</td>\n",
       "    </tr>\n",
       "  </tbody>\n",
       "</table>\n",
       "</div>"
      ],
      "text/plain": [
       "    population  pop_inc_b5k  unemployment  murder\n",
       "0     587000.0         16.5           6.2    11.2\n",
       "1     643000.0         20.5           6.4    13.4\n",
       "2     635000.0         26.3           9.3    40.7\n",
       "3     692000.0         16.5           5.3     5.3\n",
       "4    1248000.0         19.2           7.3    24.8\n",
       "5     643000.0         16.5           5.9    12.7\n",
       "6    1964000.0         20.2           6.4    20.9\n",
       "7    1531000.0         21.3           7.6    35.7\n",
       "8     713000.0         17.2           4.9     8.7\n",
       "9     749000.0         14.3           6.4     9.6\n",
       "10   7895000.0         18.1           6.0    14.5\n",
       "11    762000.0         23.1           7.4    26.9\n",
       "12   2793000.0         19.1           5.8    15.7\n",
       "13    741000.0         24.7           8.6    36.2\n",
       "14    625000.0         18.6           6.5    18.1\n",
       "15    854000.0         24.9           8.3    28.9\n",
       "16    716000.0         17.9           6.7    14.9\n",
       "17    921000.0         22.4           8.6    25.8\n",
       "18    595000.0         20.2           8.4    21.7\n",
       "19   3353000.0         16.9           6.7    25.7"
      ]
     },
     "execution_count": 5,
     "metadata": {},
     "output_type": "execute_result"
    }
   ],
   "source": [
    "df"
   ]
  },
  {
   "cell_type": "code",
   "execution_count": 9,
   "metadata": {},
   "outputs": [
    {
     "data": {
      "text/plain": [
       "<seaborn.axisgrid.PairGrid at 0x21b17be8438>"
      ]
     },
     "execution_count": 9,
     "metadata": {},
     "output_type": "execute_result"
    },
    {
     "data": {
      "image/png": "[encoded data removed]",
      "text/plain": [
       "<matplotlib.figure.Figure at 0x21b17be8908>"
      ]
     },
     "metadata": {},
     "output_type": "display_data"
    }
   ],
   "source": [
    "sns.pairplot(df)"
   ]
  },
  {
   "cell_type": "markdown",
   "metadata": {},
   "source": [
    "## Remark 1\n",
    "The pair plot above depicts a linear variation between murder, income factor and unemployment.\n",
    "No particular correlation is observed between murder and the population.\n",
    "This is because the murder count is somehow normalized against population by presenting it \n",
    "as murder per million population per annum. As such, we drop the population as\n",
    "a parameter. \n",
    "\n",
    "In the following the analysis is continued with murder as the target (y) and income factor\n",
    "and the unemployment percentage as features."
   ]
  },
  {
   "cell_type": "code",
   "execution_count": 56,
   "metadata": {},
   "outputs": [],
   "source": [
    "X=df.loc[:,['pop_inc_b5k','unemployment']].values\n",
    "y=df.loc[:,'murder']"
   ]
  },
  {
   "cell_type": "code",
   "execution_count": 57,
   "metadata": {},
   "outputs": [
    {
     "data": {
      "text/plain": [
       "array([[16.5,  6.2],\n",
       "       [20.5,  6.4],\n",
       "       [26.3,  9.3],\n",
       "       [16.5,  5.3],\n",
       "       [19.2,  7.3],\n",
       "       [16.5,  5.9],\n",
       "       [20.2,  6.4],\n",
       "       [21.3,  7.6],\n",
       "       [17.2,  4.9],\n",
       "       [14.3,  6.4],\n",
       "       [18.1,  6. ],\n",
       "       [23.1,  7.4],\n",
       "       [19.1,  5.8],\n",
       "       [24.7,  8.6],\n",
       "       [18.6,  6.5],\n",
       "       [24.9,  8.3],\n",
       "       [17.9,  6.7],\n",
       "       [22.4,  8.6],\n",
       "       [20.2,  8.4],\n",
       "       [16.9,  6.7]])"
      ]
     },
     "execution_count": 57,
     "metadata": {},
     "output_type": "execute_result"
    }
   ],
   "source": [
    "X"
   ]
  },
  {
   "cell_type": "markdown",
   "metadata": {},
   "source": [
    "## Min Max standardization\n",
    "In the following, feature columns are standardized to be in the range [0,1].\n",
    "It makes the the coefficents comparable and better interpretable.\n",
    "In addition,it helps acheiving a better condition number for OLS numerical calculations.\n"
   ]
  },
  {
   "cell_type": "code",
   "execution_count": 58,
   "metadata": {},
   "outputs": [],
   "source": [
    "mms=preprocessing.MinMaxScaler()\n",
    "X=mms.fit_transform(X)"
   ]
  },
  {
   "cell_type": "code",
   "execution_count": 59,
   "metadata": {},
   "outputs": [
    {
     "data": {
      "text/plain": [
       "array([[0.18333333, 0.29545455],\n",
       "       [0.51666667, 0.34090909],\n",
       "       [1.        , 1.        ],\n",
       "       [0.18333333, 0.09090909],\n",
       "       [0.40833333, 0.54545455],\n",
       "       [0.18333333, 0.22727273],\n",
       "       [0.49166667, 0.34090909],\n",
       "       [0.58333333, 0.61363636],\n",
       "       [0.24166667, 0.        ],\n",
       "       [0.        , 0.34090909],\n",
       "       [0.31666667, 0.25      ],\n",
       "       [0.73333333, 0.56818182],\n",
       "       [0.4       , 0.20454545],\n",
       "       [0.86666667, 0.84090909],\n",
       "       [0.35833333, 0.36363636],\n",
       "       [0.88333333, 0.77272727],\n",
       "       [0.3       , 0.40909091],\n",
       "       [0.675     , 0.84090909],\n",
       "       [0.49166667, 0.79545455],\n",
       "       [0.21666667, 0.40909091]])"
      ]
     },
     "execution_count": 59,
     "metadata": {},
     "output_type": "execute_result"
    }
   ],
   "source": [
    "X"
   ]
  },
  {
   "cell_type": "code",
   "execution_count": 73,
   "metadata": {},
   "outputs": [],
   "source": [
    "# Add column 1 for the intercept.\n",
    "rows=len(df.index)\n",
    "X=np.column_stack((np.ones((rows,1)),X))"
   ]
  },
  {
   "cell_type": "code",
   "execution_count": 74,
   "metadata": {},
   "outputs": [
    {
     "data": {
      "text/plain": [
       "array([[1.        , 0.18333333, 0.29545455],\n",
       "       [1.        , 0.51666667, 0.34090909],\n",
       "       [1.        , 1.        , 1.        ],\n",
       "       [1.        , 0.18333333, 0.09090909],\n",
       "       [1.        , 0.40833333, 0.54545455],\n",
       "       [1.        , 0.18333333, 0.22727273],\n",
       "       [1.        , 0.49166667, 0.34090909],\n",
       "       [1.        , 0.58333333, 0.61363636],\n",
       "       [1.        , 0.24166667, 0.        ],\n",
       "       [1.        , 0.        , 0.34090909],\n",
       "       [1.        , 0.31666667, 0.25      ],\n",
       "       [1.        , 0.73333333, 0.56818182],\n",
       "       [1.        , 0.4       , 0.20454545],\n",
       "       [1.        , 0.86666667, 0.84090909],\n",
       "       [1.        , 0.35833333, 0.36363636],\n",
       "       [1.        , 0.88333333, 0.77272727],\n",
       "       [1.        , 0.3       , 0.40909091],\n",
       "       [1.        , 0.675     , 0.84090909],\n",
       "       [1.        , 0.49166667, 0.79545455],\n",
       "       [1.        , 0.21666667, 0.40909091]])"
      ]
     },
     "execution_count": 74,
     "metadata": {},
     "output_type": "execute_result"
    }
   ],
   "source": [
    "X"
   ]
  },
  {
   "cell_type": "code",
   "execution_count": 122,
   "metadata": {},
   "outputs": [
    {
     "data": {
      "text/html": [
       "<table class=\"simpletable\">\n",
       "<caption>OLS Regression Results</caption>\n",
       "<tr>\n",
       "  <th>Dep. Variable:</th>         <td>murder</td>      <th>  R-squared:         </th> <td>   0.802</td>\n",
       "</tr>\n",
       "<tr>\n",
       "  <th>Model:</th>                   <td>OLS</td>       <th>  Adj. R-squared:    </th> <td>   0.779</td>\n",
       "</tr>\n",
       "<tr>\n",
       "  <th>Method:</th>             <td>Least Squares</td>  <th>  F-statistic:       </th> <td>   34.43</td>\n",
       "</tr>\n",
       "<tr>\n",
       "  <th>Date:</th>             <td>Fri, 09 Mar 2018</td> <th>  Prob (F-statistic):</th> <td>1.05e-06</td>\n",
       "</tr>\n",
       "<tr>\n",
       "  <th>Time:</th>                 <td>16:44:51</td>     <th>  Log-Likelihood:    </th> <td> -57.484</td>\n",
       "</tr>\n",
       "<tr>\n",
       "  <th>No. Observations:</th>      <td>    20</td>      <th>  AIC:               </th> <td>   121.0</td>\n",
       "</tr>\n",
       "<tr>\n",
       "  <th>Df Residuals:</th>          <td>    17</td>      <th>  BIC:               </th> <td>   124.0</td>\n",
       "</tr>\n",
       "<tr>\n",
       "  <th>Df Model:</th>              <td>     2</td>      <th>                     </th>     <td> </td>   \n",
       "</tr>\n",
       "<tr>\n",
       "  <th>Covariance Type:</th>      <td>nonrobust</td>    <th>                     </th>     <td> </td>   \n",
       "</tr>\n",
       "</table>\n",
       "<table class=\"simpletable\">\n",
       "<tr>\n",
       "    <td></td>       <th>coef</th>     <th>std err</th>      <th>t</th>      <th>P>|t|</th>  <th>[0.025</th>    <th>0.975]</th>  \n",
       "</tr>\n",
       "<tr>\n",
       "  <th>const</th> <td>    4.9845</td> <td>    2.148</td> <td>    2.321</td> <td> 0.033</td> <td>    0.453</td> <td>    9.515</td>\n",
       "</tr>\n",
       "<tr>\n",
       "  <th>x1</th>    <td>   14.6872</td> <td>    6.818</td> <td>    2.154</td> <td> 0.046</td> <td>    0.301</td> <td>   29.073</td>\n",
       "</tr>\n",
       "<tr>\n",
       "  <th>x2</th>    <td>   19.3553</td> <td>    6.715</td> <td>    2.882</td> <td> 0.010</td> <td>    5.188</td> <td>   33.523</td>\n",
       "</tr>\n",
       "</table>\n",
       "<table class=\"simpletable\">\n",
       "<tr>\n",
       "  <th>Omnibus:</th>       <td> 4.394</td> <th>  Durbin-Watson:     </th> <td>   1.697</td>\n",
       "</tr>\n",
       "<tr>\n",
       "  <th>Prob(Omnibus):</th> <td> 0.111</td> <th>  Jarque-Bera (JB):  </th> <td>   2.526</td>\n",
       "</tr>\n",
       "<tr>\n",
       "  <th>Skew:</th>          <td> 0.834</td> <th>  Prob(JB):          </th> <td>   0.283</td>\n",
       "</tr>\n",
       "<tr>\n",
       "  <th>Kurtosis:</th>      <td> 3.501</td> <th>  Cond. No.          </th> <td>    10.6</td>\n",
       "</tr>\n",
       "</table>"
      ],
      "text/plain": [
       "<class 'statsmodels.iolib.summary.Summary'>\n",
       "\"\"\"\n",
       "                            OLS Regression Results                            \n",
       "==============================================================================\n",
       "Dep. Variable:                 murder   R-squared:                       0.802\n",
       "Model:                            OLS   Adj. R-squared:                  0.779\n",
       "Method:                 Least Squares   F-statistic:                     34.43\n",
       "Date:                Fri, 09 Mar 2018   Prob (F-statistic):           1.05e-06\n",
       "Time:                        16:44:51   Log-Likelihood:                -57.484\n",
       "No. Observations:                  20   AIC:                             121.0\n",
       "Df Residuals:                      17   BIC:                             124.0\n",
       "Df Model:                           2                                         \n",
       "Covariance Type:            nonrobust                                         \n",
       "==============================================================================\n",
       "                 coef    std err          t      P>|t|      [0.025      0.975]\n",
       "------------------------------------------------------------------------------\n",
       "const          4.9845      2.148      2.321      0.033       0.453       9.515\n",
       "x1            14.6872      6.818      2.154      0.046       0.301      29.073\n",
       "x2            19.3553      6.715      2.882      0.010       5.188      33.523\n",
       "==============================================================================\n",
       "Omnibus:                        4.394   Durbin-Watson:                   1.697\n",
       "Prob(Omnibus):                  0.111   Jarque-Bera (JB):                2.526\n",
       "Skew:                           0.834   Prob(JB):                        0.283\n",
       "Kurtosis:                       3.501   Cond. No.                         10.6\n",
       "==============================================================================\n",
       "\n",
       "Warnings:\n",
       "[1] Standard Errors assume that the covariance matrix of the errors is correctly specified.\n",
       "\"\"\""
      ]
     },
     "execution_count": 122,
     "metadata": {},
     "output_type": "execute_result"
    }
   ],
   "source": [
    "# performing the OLS\n",
    "model = sm.OLS(y,X)\n",
    "reg = model.fit()\n",
    "reg.summary()"
   ]
  },
  {
   "cell_type": "markdown",
   "metadata": {},
   "source": [
    "## R^2\n",
    "The coefficient of determination is about 0.8 which indicates\n",
    "a good fit for this problem. The t and F statistics can also be studied\n",
    "for more insights. This, however, is not the purpose of the present work."
   ]
  },
  {
   "cell_type": "code",
   "execution_count": 76,
   "metadata": {},
   "outputs": [],
   "source": [
    "lbl_map = {'x1':'income factor','x2':'unemployment'}"
   ]
  },
  {
   "cell_type": "code",
   "execution_count": 77,
   "metadata": {},
   "outputs": [
    {
     "data": {
      "text/plain": [
       "const     4.984461\n",
       "x1       14.687168\n",
       "x2       19.355318\n",
       "dtype: float64"
      ]
     },
     "execution_count": 77,
     "metadata": {},
     "output_type": "execute_result"
    }
   ],
   "source": [
    "reg.params"
   ]
  },
  {
   "cell_type": "code",
   "execution_count": 123,
   "metadata": {},
   "outputs": [],
   "source": [
    "coeff_numi = reg.params.iloc[1:X.shape[1]]\n",
    "coeff_numi.rename(lbl_map,inplace=True)\n",
    "coeff_numi_abs = coeff_numi.map(abs)\n",
    "coeff_numi_abs.sort_values(ascending=False,inplace=True)\n",
    "clrs = ['grey' if x<0 else 'black' for x in coeff_numi.values ]"
   ]
  },
  {
   "cell_type": "code",
   "execution_count": 124,
   "metadata": {},
   "outputs": [
    {
     "data": {
      "text/plain": [
       "unemployment     19.355318\n",
       "income factor    14.687168\n",
       "dtype: float64"
      ]
     },
     "execution_count": 124,
     "metadata": {},
     "output_type": "execute_result"
    }
   ],
   "source": [
    "coeff_numi_abs"
   ]
  },
  {
   "cell_type": "markdown",
   "metadata": {},
   "source": [
    "## Sensitivity 1\n",
    "The following Pareto chart shows that unemployment and income factor both have \n",
    "a positive impact on the murder; that is an increase in those factors leads\n",
    "leads to an increase in the murder. The unemployment has a larger influence\n",
    "on the murder than income factor though by a small amount. A unit increase in\n",
    "unemployment leads to 19.35 unit increase in murder."
   ]
  },
  {
   "cell_type": "code",
   "execution_count": 125,
   "metadata": {},
   "outputs": [
    {
     "data": {
      "image/png": "[encoded data removed]",
      "text/plain": [
       "<matplotlib.figure.Figure at 0x1d1029ba208>"
      ]
     },
     "metadata": {},
     "output_type": "display_data"
    }
   ],
   "source": [
    "pareto = sns.barplot(x=coeff_numi_abs[0:], y=coeff_numi_abs.index[0:],palette=clrs)"
   ]
  },
  {
   "cell_type": "markdown",
   "metadata": {},
   "source": [
    "## Remark 2\n",
    "To calculate the sensitivity based on the elasticity of the response,\n",
    "I create a log transformed version of the data. \n",
    "The pair plot that follows indicates linearity among\n",
    "data."
   ]
  },
  {
   "cell_type": "code",
   "execution_count": 109,
   "metadata": {},
   "outputs": [],
   "source": [
    "XX=df.loc[:,['pop_inc_b5k','unemployment']].values\n",
    "yy=df.loc[:,'murder']\n",
    "XX=np.log(XX)\n",
    "yy=np.log(yy)"
   ]
  },
  {
   "cell_type": "code",
   "execution_count": 113,
   "metadata": {},
   "outputs": [
    {
     "data": {
      "text/plain": [
       "<seaborn.axisgrid.PairGrid at 0x1d1011b22b0>"
      ]
     },
     "execution_count": 113,
     "metadata": {},
     "output_type": "execute_result"
    },
    {
     "data": {
      "image/png": "[encoded data removed]",
      "text/plain": [
       "<matplotlib.figure.Figure at 0x1d1011b2390>"
      ]
     },
     "metadata": {},
     "output_type": "display_data"
    }
   ],
   "source": [
    "df2=pd.DataFrame(np.column_stack((XX,yy)),columns=['pop_inc_b5k (log)','unemployment (log)','murder (log)'])\n",
    "sns.pairplot(df2)"
   ]
  },
  {
   "cell_type": "code",
   "execution_count": 114,
   "metadata": {},
   "outputs": [
    {
     "data": {
      "text/html": [
       "<div>\n",
       "<style scoped>\n",
       "    .dataframe tbody tr th:only-of-type {\n",
       "        vertical-align: middle;\n",
       "    }\n",
       "\n",
       "    .dataframe tbody tr th {\n",
       "        vertical-align: top;\n",
       "    }\n",
       "\n",
       "    .dataframe thead th {\n",
       "        text-align: right;\n",
       "    }\n",
       "</style>\n",
       "<table border=\"1\" class=\"dataframe\">\n",
       "  <thead>\n",
       "    <tr style=\"text-align: right;\">\n",
       "      <th></th>\n",
       "      <th>pop_inc_b5k (log)</th>\n",
       "      <th>unemployment (log)</th>\n",
       "      <th>murder (log)</th>\n",
       "    </tr>\n",
       "  </thead>\n",
       "  <tbody>\n",
       "    <tr>\n",
       "      <th>0</th>\n",
       "      <td>2.803360</td>\n",
       "      <td>1.824549</td>\n",
       "      <td>2.415914</td>\n",
       "    </tr>\n",
       "    <tr>\n",
       "      <th>1</th>\n",
       "      <td>3.020425</td>\n",
       "      <td>1.856298</td>\n",
       "      <td>2.595255</td>\n",
       "    </tr>\n",
       "    <tr>\n",
       "      <th>2</th>\n",
       "      <td>3.269569</td>\n",
       "      <td>2.230014</td>\n",
       "      <td>3.706228</td>\n",
       "    </tr>\n",
       "    <tr>\n",
       "      <th>3</th>\n",
       "      <td>2.803360</td>\n",
       "      <td>1.667707</td>\n",
       "      <td>1.667707</td>\n",
       "    </tr>\n",
       "    <tr>\n",
       "      <th>4</th>\n",
       "      <td>2.954910</td>\n",
       "      <td>1.987874</td>\n",
       "      <td>3.210844</td>\n",
       "    </tr>\n",
       "  </tbody>\n",
       "</table>\n",
       "</div>"
      ],
      "text/plain": [
       "   pop_inc_b5k (log)  unemployment (log)  murder (log)\n",
       "0           2.803360            1.824549      2.415914\n",
       "1           3.020425            1.856298      2.595255\n",
       "2           3.269569            2.230014      3.706228\n",
       "3           2.803360            1.667707      1.667707\n",
       "4           2.954910            1.987874      3.210844"
      ]
     },
     "execution_count": 114,
     "metadata": {},
     "output_type": "execute_result"
    }
   ],
   "source": [
    "df2.head()"
   ]
  },
  {
   "cell_type": "markdown",
   "metadata": {},
   "source": [
    "## Min Max standardization"
   ]
  },
  {
   "cell_type": "code",
   "execution_count": 115,
   "metadata": {},
   "outputs": [],
   "source": [
    "mms=preprocessing.MinMaxScaler()\n",
    "XX=mms.fit_transform(XX)\n",
    "\n",
    "rows=len(df.index)\n",
    "XX=np.column_stack((np.ones((rows,1)),XX))\n"
   ]
  },
  {
   "cell_type": "code",
   "execution_count": 116,
   "metadata": {},
   "outputs": [
    {
     "data": {
      "text/html": [
       "<table class=\"simpletable\">\n",
       "<caption>OLS Regression Results</caption>\n",
       "<tr>\n",
       "  <th>Dep. Variable:</th>         <td>murder</td>      <th>  R-squared:         </th> <td>   0.778</td>\n",
       "</tr>\n",
       "<tr>\n",
       "  <th>Model:</th>                   <td>OLS</td>       <th>  Adj. R-squared:    </th> <td>   0.752</td>\n",
       "</tr>\n",
       "<tr>\n",
       "  <th>Method:</th>             <td>Least Squares</td>  <th>  F-statistic:       </th> <td>   29.85</td>\n",
       "</tr>\n",
       "<tr>\n",
       "  <th>Date:</th>             <td>Fri, 09 Mar 2018</td> <th>  Prob (F-statistic):</th> <td>2.74e-06</td>\n",
       "</tr>\n",
       "<tr>\n",
       "  <th>Time:</th>                 <td>15:28:04</td>     <th>  Log-Likelihood:    </th> <td>-0.17478</td>\n",
       "</tr>\n",
       "<tr>\n",
       "  <th>No. Observations:</th>      <td>    20</td>      <th>  AIC:               </th> <td>   6.350</td>\n",
       "</tr>\n",
       "<tr>\n",
       "  <th>Df Residuals:</th>          <td>    17</td>      <th>  BIC:               </th> <td>   9.337</td>\n",
       "</tr>\n",
       "<tr>\n",
       "  <th>Df Model:</th>              <td>     2</td>      <th>                     </th>     <td> </td>   \n",
       "</tr>\n",
       "<tr>\n",
       "  <th>Covariance Type:</th>      <td>nonrobust</td>    <th>                     </th>     <td> </td>   \n",
       "</tr>\n",
       "</table>\n",
       "<table class=\"simpletable\">\n",
       "<tr>\n",
       "    <td></td>       <th>coef</th>     <th>std err</th>      <th>t</th>      <th>P>|t|</th>  <th>[0.025</th>    <th>0.975]</th>  \n",
       "</tr>\n",
       "<tr>\n",
       "  <th>const</th> <td>    1.9512</td> <td>    0.137</td> <td>   14.255</td> <td> 0.000</td> <td>    1.662</td> <td>    2.240</td>\n",
       "</tr>\n",
       "<tr>\n",
       "  <th>x1</th>    <td>    0.6719</td> <td>    0.365</td> <td>    1.842</td> <td> 0.083</td> <td>   -0.098</td> <td>    1.442</td>\n",
       "</tr>\n",
       "<tr>\n",
       "  <th>x2</th>    <td>    1.1723</td> <td>    0.359</td> <td>    3.268</td> <td> 0.005</td> <td>    0.415</td> <td>    1.929</td>\n",
       "</tr>\n",
       "</table>\n",
       "<table class=\"simpletable\">\n",
       "<tr>\n",
       "  <th>Omnibus:</th>       <td> 1.028</td> <th>  Durbin-Watson:     </th> <td>   1.680</td>\n",
       "</tr>\n",
       "<tr>\n",
       "  <th>Prob(Omnibus):</th> <td> 0.598</td> <th>  Jarque-Bera (JB):  </th> <td>   0.120</td>\n",
       "</tr>\n",
       "<tr>\n",
       "  <th>Skew:</th>          <td>-0.040</td> <th>  Prob(JB):          </th> <td>   0.942</td>\n",
       "</tr>\n",
       "<tr>\n",
       "  <th>Kurtosis:</th>      <td> 3.371</td> <th>  Cond. No.          </th> <td>    10.2</td>\n",
       "</tr>\n",
       "</table>"
      ],
      "text/plain": [
       "<class 'statsmodels.iolib.summary.Summary'>\n",
       "\"\"\"\n",
       "                            OLS Regression Results                            \n",
       "==============================================================================\n",
       "Dep. Variable:                 murder   R-squared:                       0.778\n",
       "Model:                            OLS   Adj. R-squared:                  0.752\n",
       "Method:                 Least Squares   F-statistic:                     29.85\n",
       "Date:                Fri, 09 Mar 2018   Prob (F-statistic):           2.74e-06\n",
       "Time:                        15:28:04   Log-Likelihood:               -0.17478\n",
       "No. Observations:                  20   AIC:                             6.350\n",
       "Df Residuals:                      17   BIC:                             9.337\n",
       "Df Model:                           2                                         \n",
       "Covariance Type:            nonrobust                                         \n",
       "==============================================================================\n",
       "                 coef    std err          t      P>|t|      [0.025      0.975]\n",
       "------------------------------------------------------------------------------\n",
       "const          1.9512      0.137     14.255      0.000       1.662       2.240\n",
       "x1             0.6719      0.365      1.842      0.083      -0.098       1.442\n",
       "x2             1.1723      0.359      3.268      0.005       0.415       1.929\n",
       "==============================================================================\n",
       "Omnibus:                        1.028   Durbin-Watson:                   1.680\n",
       "Prob(Omnibus):                  0.598   Jarque-Bera (JB):                0.120\n",
       "Skew:                          -0.040   Prob(JB):                        0.942\n",
       "Kurtosis:                       3.371   Cond. No.                         10.2\n",
       "==============================================================================\n",
       "\n",
       "Warnings:\n",
       "[1] Standard Errors assume that the covariance matrix of the errors is correctly specified.\n",
       "\"\"\""
      ]
     },
     "execution_count": 116,
     "metadata": {},
     "output_type": "execute_result"
    }
   ],
   "source": [
    "model = sm.OLS(yy,XX)\n",
    "reg = model.fit()\n",
    "reg.summary()"
   ]
  },
  {
   "cell_type": "code",
   "execution_count": 117,
   "metadata": {},
   "outputs": [],
   "source": [
    "coeff_numi = reg.params.iloc[1:X.shape[1]]\n",
    "coeff_numi.rename(lbl_map,inplace=True)\n",
    "coeff_numi_abs = coeff_numi.map(abs)\n",
    "coeff_numi_abs.sort_values(ascending=False,inplace=True)\n",
    "clrs = ['grey' if x<0 else 'black' for x in coeff_numi.values ]"
   ]
  },
  {
   "cell_type": "code",
   "execution_count": 118,
   "metadata": {},
   "outputs": [
    {
     "data": {
      "text/plain": [
       "unemployment     1.172303\n",
       "income factor    0.671902\n",
       "dtype: float64"
      ]
     },
     "execution_count": 118,
     "metadata": {},
     "output_type": "execute_result"
    }
   ],
   "source": [
    "coeff_numi_abs"
   ]
  },
  {
   "cell_type": "code",
   "execution_count": 121,
   "metadata": {},
   "outputs": [
    {
     "data": {
      "image/png": "[encoded data removed]",
      "text/plain": [
       "<matplotlib.figure.Figure at 0x1d1028e5240>"
      ]
     },
     "metadata": {},
     "output_type": "display_data"
    }
   ],
   "source": [
    "pareto = sns.barplot(x=coeff_numi_abs[0:], y=coeff_numi_abs.index[0:],palette=clrs)"
   ]
  },
  {
   "cell_type": "markdown",
   "metadata": {},
   "source": [
    "## sensitivity\n",
    "The sensitivity based on response elasticity shows that 1% change\n",
    "in unemployment leads to 1.17 % change in the murder while\n",
    "1% change in income factor leads to 0.67% change in murder.\n",
    "We conclude that unemployment has greater influence on murder than\n",
    "the income factor, albeit not significantly."
   ]
  },
  {
   "cell_type": "code",
   "execution_count": 96,
   "metadata": {},
   "outputs": [],
   "source": [
    "## uncomment if you want to save the figure as a png.\n",
    "#fig = numi_pareto.get_figure()\n",
    "#fig.savefig('pareto_sensitivity.png')"
   ]
  }
 ],
 "metadata": {
  "kernelspec": {
   "display_name": "Python 3",
   "language": "python",
   "name": "python3"
  },
  "language_info": {
   "codemirror_mode": {
    "name": "ipython",
    "version": 3
   },
   "file_extension": ".py",
   "mimetype": "text/x-python",
   "name": "python",
   "nbconvert_exporter": "python",
   "pygments_lexer": "ipython3",
   "version": "3.5.2"
  }
 },
 "nbformat": 4,
 "nbformat_minor": 2
}
